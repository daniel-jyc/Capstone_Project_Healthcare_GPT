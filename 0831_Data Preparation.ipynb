{
 "cells": [
  {
   "cell_type": "markdown",
   "id": "85a9746e-2a95-443d-9951-f68a31d3b094",
   "metadata": {},
   "source": [
    "# Data Preparation"
   ]
  },
  {
   "cell_type": "code",
   "execution_count": 1,
   "id": "381a25f3-5c8e-4c55-bc0f-6a3ea05e59a7",
   "metadata": {},
   "outputs": [],
   "source": [
    "import gcsfs\n",
    "import json\n",
    "\n",
    "gcs_file_system = gcsfs.GCSFileSystem(project=\"capstone\")\n",
    "gcs_json_path = \"gs://radiology-data/report_CT.json\"\n",
    "with gcs_file_system.open(gcs_json_path) as f:\n",
    "    data = json.load(f)"
   ]
  },
  {
   "cell_type": "code",
   "execution_count": 2,
   "id": "5955a580-ba27-4ce1-bc27-d029906b75ae",
   "metadata": {},
   "outputs": [
    {
     "data": {
      "text/plain": [
       "246824"
      ]
     },
     "execution_count": 2,
     "metadata": {},
     "output_type": "execute_result"
    }
   ],
   "source": [
    "len(data)"
   ]
  },
  {
   "cell_type": "code",
   "execution_count": 41,
   "id": "638fa504-960a-4c00-9409-14ee7815f9a0",
   "metadata": {},
   "outputs": [
    {
     "name": "stdout",
     "output_type": "stream",
     "text": [
      "Report ID: 42 \n",
      "\n",
      "Modality: CT \n",
      "\n",
      "Clinical Information: . Evaluate for stricturing crohns disease in patient with ileal crohns disease status post resection in 2005 history: abdominal pain, decreased appetite, nausea. \n",
      "\n",
      "Findings: . No significant abnormality noted. Hepatic steatosis suggested. No significant abnormality noted. No significant abnormality noted. No significant abnormality noted. No significant abnormality noted. No significant abnormality noted. Right sided abdominal postsurgical sequela related to prior partial ileal resection. At level of postsurgical anastomosis, axial images 111 to 115 series 4/coronal image 58, mild to moderate distal ileal luminal narrowing and mild wall enhancement seen. However, no significant proximal bowel dilatation noted and appearance is not significantly changed from prior 2010 examination. May reflect underdistention or chronic changes or postsurgical sequela. Some areas of jejunum not well distended, making evaluation suboptimal. No significant abnormality noted. No significant abnormality noted. Small fat containing periumbilical hernia. Minimal fat stranding in ischioanal fossae alluded to on earlier exam without significant change. Visualized osseous structures without significant change. \n",
      "\n",
      "Impression: Status post partial ileal resection at at level of postsurgical anastomosis, mild wall enhancement and distal ileal luminal narrowing seen. However, no significant proximal bowel dilatation noted and appearance is not significantly changed from prior 2010 examination. Findings may reflect chronic disease or postsurgical sequela and may be due in part to underdistention. \n",
      "\n"
     ]
    }
   ],
   "source": [
    "# Access specific information in the data\n",
    "report_id = data['Report_42']['report_id']\n",
    "modality = data['Report_42']['modality']\n",
    "clinical_information = data['Report_42']['clinical_information']['clinical_information']\n",
    "findings_group = data['Report_42']['findings_group']['findings']\n",
    "impression_group = data['Report_42']['impression_group']['impression']\n",
    "\n",
    "# Print the extracted information\n",
    "print(f\"Report ID: {report_id}\",'\\n')\n",
    "print(f\"Modality: {modality}\",'\\n')\n",
    "print(f\"Clinical Information: {clinical_information}\",'\\n')\n",
    "print(f\"Findings: {findings_group}\",'\\n')\n",
    "print(f\"Impression: {impression_group}\",'\\n')"
   ]
  },
  {
   "cell_type": "code",
   "execution_count": 81,
   "id": "78d437b6-2b93-4841-921e-14d2cd956106",
   "metadata": {},
   "outputs": [
    {
     "name": "stderr",
     "output_type": "stream",
     "text": [
      "[nltk_data] Downloading package punkt to /home/jupyter/nltk_data...\n",
      "[nltk_data]   Package punkt is already up-to-date!\n"
     ]
    },
    {
     "data": {
      "text/plain": [
       "{'.',\n",
       " 'At level of postsurgical anastomosis, axial images 111 to 115 series 4/coronal image 58, mild to moderate distal ileal luminal narrowing and mild wall enhancement seen.',\n",
       " 'Hepatic steatosis suggested.',\n",
       " 'However, no significant proximal bowel dilatation noted and appearance is not significantly changed from prior 2010 examination.',\n",
       " 'May reflect underdistention or chronic changes or postsurgical sequela.',\n",
       " 'Minimal fat stranding in ischioanal fossae alluded to on earlier exam without significant change.',\n",
       " 'No significant abnormality noted.',\n",
       " 'Right sided abdominal postsurgical sequela related to prior partial ileal resection.',\n",
       " 'Small fat containing periumbilical hernia.',\n",
       " 'Some areas of jejunum not well distended, making evaluation suboptimal.',\n",
       " 'Visualized osseous structures without significant change.'}"
      ]
     },
     "execution_count": 81,
     "metadata": {},
     "output_type": "execute_result"
    }
   ],
   "source": [
    "import nltk\n",
    "nltk.download('punkt')\n",
    "from nltk.tokenize import sent_tokenize\n",
    "\n",
    "paragraph = data['Report_42']['findings_group']['findings']\n",
    "\n",
    "# Tokenize the paragraph into sentences\n",
    "sentences = sent_tokenize(paragraph)\n",
    "\n",
    "# Create a set to store distinct sentences\n",
    "distinct_sentences = set()\n",
    "\n",
    "# Add distinct sentences to the set\n",
    "for sentence in sentences:\n",
    "    distinct_sentences.add(sentence.strip())\n",
    "\n",
    "# Print the distinct sentences\n",
    "distinct_sentences\n"
   ]
  },
  {
   "cell_type": "code",
   "execution_count": 32,
   "id": "ff55ce92-5efa-407f-a749-0917729a92d9",
   "metadata": {},
   "outputs": [
    {
     "name": "stdout",
     "output_type": "stream",
     "text": [
      "history of lung cancer.\n",
      "Progression of radiation changes and scarring of the right perihilar region\n",
      "Increased small right pleural effusion\n",
      "The reference right upper lobe nodule is partially obscured by the adjacent pleural effusion but measures approximately 1.9 x 1.4 cm , compared to 1.2 x 1.0 cm previously\n",
      "Additional right lung nodules are increased in size\n",
      "Stable left lower lobe interstitial opacity\n",
      "The dominant right peritracheal mass measures 10.3 x 5.3 cm , compared to 8.5 x 4.9 cm previously\n",
      "The mass encases the left brachiocephalic vein and narrows the SVC which is reconstituted distally\n",
      "There is also mass effect and mild narrowing of the trachea\n",
      "Right-sided chest port catheter tip terminates at the cavoatrial junction\n",
      "The reference right cardiophrenic angle hypoattenuating mass measures 5.8 x 4.3 cm , compared to 6.0 x 4.9 cm previously\n",
      "Right internal mammary lymphadenopathy\n",
      "Scattered mediastinal lymphadenopathy is stable to increased in size\n",
      "\u001b[1mSevere\u001b[0m\n",
      "No axillary lymphadenopathy\n",
      "Degenerative changes of the spine\n",
      "Reference right hepatic lobe hypodense lesion measures 1.0 cm , compared to 1.6 cm previously\n",
      "Additional hepatic hypodensities are again noted\n",
      "The vessels are patent\n",
      "Normally distended gallbladder\n",
      "No biliary ductal dilatation\n",
      "\u001b[1mNo significant abnormality noted\u001b[0m\n",
      "\u001b[1mNo significant abnormality noted\u001b[0m\n",
      "The reference peripancreatic lymph node measures 3.6 x 3.1 cm compared to 3.7 x 3.1 cm previously\n",
      "Right adrenal multilobulated mass measures 2.5 x 2.2 cm compared to 2.3 x 1.6 cm previously\n",
      "Nonobstructive right renal collecting system calculi\n",
      "Stable perinephric fluid\n",
      "Left pararenal space soft tissue nodule\n",
      "Periduodenal mass measuring 2.1 x 2.0 cm , increased in size\n",
      "Abdominal aortic aneurysm status post aortobiiliac stent placement\n",
      "The excluded aneurysmal sac measures approximately 5.8 x 6.6 cm , compared to 5.9 x 6.8 cm previously\n",
      "\u001b[1mSevere\u001b[0m\n",
      "\u001b[1mNo significant abnormality noted\u001b[0m\n",
      "\u001b[1mNo significant abnormality noted\u001b[0m\n",
      "\u001b[1mNo significant abnormality noted\u001b[0m\n",
      "\u001b[1mNo significant abnormality noted\u001b[0m\n",
      "\u001b[1mNo significant abnormality noted\u001b[0m\n",
      "\u001b[1mNo significant abnormality noted\u001b[0m\n",
      "\u001b[1mNo significant abnormality noted\u001b[0m\n",
      "Left common iliac aneurysm, similar to prior\n",
      "\u001b[1mNo significant abnormality noted\u001b[0m\n"
     ]
    }
   ],
   "source": [
    "text = 'history of lung cancer.. Progression of radiation changes and scarring of the right perihilar region. Increased small right pleural effusion. The reference right upper lobe nodule is partially obscured by the adjacent pleural effusion but measures approximately 1.9 x 1.4 cm , compared to 1.2 x 1.0 cm previously. Additional right lung nodules are increased in size. Stable left lower lobe interstitial opacity. The dominant right peritracheal mass measures 10.3 x 5.3 cm , compared to 8.5 x 4.9 cm previously. The mass encases the left brachiocephalic vein and narrows the SVC which is reconstituted distally. There is also mass effect and mild narrowing of the trachea. Right-sided chest port catheter tip terminates at the cavoatrial junction. The reference right cardiophrenic angle hypoattenuating mass measures 5.8 x 4.3 cm , compared to 6.0 x 4.9 cm previously. Right internal mammary lymphadenopathy. Scattered mediastinal lymphadenopathy is stable to increased in size. Severe. No axillary lymphadenopathy. Degenerative changes of the spine. Reference right hepatic lobe hypodense lesion measures 1.0 cm , compared to 1.6 cm previously. Additional hepatic hypodensities are again noted. The vessels are patent. Normally distended gallbladder. No biliary ductal dilatation. No significant abnormality noted. No significant abnormality noted. The reference peripancreatic lymph node measures 3.6 x 3.1 cm compared to 3.7 x 3.1 cm previously. Right adrenal multilobulated mass measures 2.5 x 2.2 cm compared to 2.3 x 1.6 cm previously. Nonobstructive right renal collecting system calculi. Stable perinephric fluid. Left pararenal space soft tissue nodule. Periduodenal mass measuring 2.1 x 2.0 cm , increased in size. Abdominal aortic aneurysm status post aortobiiliac stent placement. The excluded aneurysmal sac measures approximately 5.8 x 6.6 cm , compared to 5.9 x 6.8 cm previously. Severe. No significant abnormality noted. No significant abnormality noted. No significant abnormality noted. No significant abnormality noted. No significant abnormality noted. No significant abnormality noted. No significant abnormality noted. Left common iliac aneurysm, similar to prior. No significant abnormality noted'\n",
    "# Split the text into sentences\n",
    "sentences = text.split('. ')\n",
    "\n",
    "# Create a dictionary to store sentence counts\n",
    "sentence_counts = {}\n",
    "\n",
    "# Find repeated sentences and update the counts\n",
    "for sentence in sentences:\n",
    "    if sentence in sentence_counts:\n",
    "        sentence_counts[sentence] += 1\n",
    "    else:\n",
    "        sentence_counts[sentence] = 1\n",
    "\n",
    "# Print the text with repeated parts highlighted\n",
    "for sentence in sentences:\n",
    "    if sentence_counts[sentence] > 1:\n",
    "        highlighted_sentence = f\"\\033[1m{sentence}\\033[0m\"  # Highlight using ANSI escape codes\n",
    "        print(highlighted_sentence)\n",
    "    else:\n",
    "        print(sentence)\n"
   ]
  },
  {
   "cell_type": "markdown",
   "id": "a19b6560-2ee2-438a-8095-ddec5f0e1828",
   "metadata": {},
   "source": [
    "## Create Dataframe"
   ]
  },
  {
   "cell_type": "code",
   "execution_count": 89,
   "id": "7d8db650-6fcc-4ae5-95f6-ef25a2977070",
   "metadata": {},
   "outputs": [],
   "source": [
    "full_report = []\n",
    "for key, value in data.items():\n",
    "    report = dict()\n",
    "    report_id = value['report_id']\n",
    "    try:\n",
    "        clinical_information = value['clinical_information']['clinical_information']\n",
    "    except KeyError:\n",
    "        clinical_information = \"\"\n",
    "    clinical_information = clinical_information.replace('empty.','')\n",
    "    clinical_information = clinical_information.lstrip('. ')\n",
    "    findings_group = value['findings_group']['findings']\n",
    "    findings_group  = findings_group.lstrip('. ')\n",
    "    impression_group = value['impression_group']['impression']\n",
    "\n",
    "    report['report_id'] = report_id\n",
    "    report['clinical_information'] = clinical_information\n",
    "    report['findings'] = findings_group\n",
    "    report['impression'] = impression_group\n",
    "    \n",
    "    full_report.append(report)"
   ]
  },
  {
   "cell_type": "code",
   "execution_count": 90,
   "id": "8d1e4696-ac03-44a8-aa1a-8102beb9d61a",
   "metadata": {},
   "outputs": [],
   "source": [
    "import pandas as pd\n",
    "CT_report = pd.DataFrame(full_report)"
   ]
  },
  {
   "cell_type": "code",
   "execution_count": 91,
   "id": "deaaa0fc-e3a5-4934-a982-046ea2653b7d",
   "metadata": {},
   "outputs": [
    {
     "data": {
      "text/html": [
       "<div>\n",
       "<style scoped>\n",
       "    .dataframe tbody tr th:only-of-type {\n",
       "        vertical-align: middle;\n",
       "    }\n",
       "\n",
       "    .dataframe tbody tr th {\n",
       "        vertical-align: top;\n",
       "    }\n",
       "\n",
       "    .dataframe thead th {\n",
       "        text-align: right;\n",
       "    }\n",
       "</style>\n",
       "<table border=\"1\" class=\"dataframe\">\n",
       "  <thead>\n",
       "    <tr style=\"text-align: right;\">\n",
       "      <th></th>\n",
       "      <th>report_id</th>\n",
       "      <th>clinical_information</th>\n",
       "      <th>findings</th>\n",
       "      <th>impression</th>\n",
       "    </tr>\n",
       "  </thead>\n",
       "  <tbody>\n",
       "    <tr>\n",
       "      <th>0</th>\n",
       "      <td>6</td>\n",
       "      <td>locally recurrent oral tongue squamous cell ca...</td>\n",
       "      <td>There are post-treatment findings in the neck ...</td>\n",
       "      <td>Postoperative findings with evidence of recurr...</td>\n",
       "    </tr>\n",
       "    <tr>\n",
       "      <th>1</th>\n",
       "      <td>7</td>\n",
       "      <td>64 years old male with history of left humerus...</td>\n",
       "      <td>Scattered pulmonary micronodules, some which a...</td>\n",
       "      <td>No evidence of metastatic disease.</td>\n",
       "    </tr>\n",
       "    <tr>\n",
       "      <th>2</th>\n",
       "      <td>13</td>\n",
       "      <td>female, 57 years old, with subarachnoid hemorr...</td>\n",
       "      <td>A large coil mass is redemonstrated in the reg...</td>\n",
       "      <td>Redemonstration of a large coil mass situated ...</td>\n",
       "    </tr>\n",
       "    <tr>\n",
       "      <th>3</th>\n",
       "      <td>14</td>\n",
       "      <td>male, 66 years old, status post subdural hemor...</td>\n",
       "      <td>Findings are redemonstrated compatible with su...</td>\n",
       "      <td>No significant change in the size of bilateral...</td>\n",
       "    </tr>\n",
       "    <tr>\n",
       "      <th>4</th>\n",
       "      <td>15</td>\n",
       "      <td></td>\n",
       "      <td>The ventricles and sulci are within normal lim...</td>\n",
       "      <td>No acute intracranial hemorrhage.</td>\n",
       "    </tr>\n",
       "    <tr>\n",
       "      <th>5</th>\n",
       "      <td>16</td>\n",
       "      <td></td>\n",
       "      <td>There is a very subtle focal hypoattenuating a...</td>\n",
       "      <td>No acute intracranial hemorrhage. Very subtle ...</td>\n",
       "    </tr>\n",
       "    <tr>\n",
       "      <th>6</th>\n",
       "      <td>17</td>\n",
       "      <td>male, 84 years old, status post subdural hemor...</td>\n",
       "      <td>Since the prior examination, two burr holes ha...</td>\n",
       "      <td>Expected findings status post evacuation of a ...</td>\n",
       "    </tr>\n",
       "    <tr>\n",
       "      <th>7</th>\n",
       "      <td>18</td>\n",
       "      <td></td>\n",
       "      <td>The ventricles and sulci are within normal lim...</td>\n",
       "      <td>No acute intracranial abnormality. Dental cari...</td>\n",
       "    </tr>\n",
       "    <tr>\n",
       "      <th>8</th>\n",
       "      <td>22</td>\n",
       "      <td>Evaluate for acute intraabdominal process hist...</td>\n",
       "      <td>No significant abnormality noted. Hepatic subc...</td>\n",
       "      <td>Unremarkable exam. Normal appendix. If there i...</td>\n",
       "    </tr>\n",
       "    <tr>\n",
       "      <th>9</th>\n",
       "      <td>26</td>\n",
       "      <td></td>\n",
       "      <td>The frontal sinus and frontoethmoidal recesses...</td>\n",
       "      <td>Mild interval improvement in extensive paranas...</td>\n",
       "    </tr>\n",
       "    <tr>\n",
       "      <th>10</th>\n",
       "      <td>28</td>\n",
       "      <td>Evaluate for necrotizing fascitis of scrotum h...</td>\n",
       "      <td>Multifocal air space disease seen throughout b...</td>\n",
       "      <td>Segmental thickening of distal transverse colo...</td>\n",
       "    </tr>\n",
       "    <tr>\n",
       "      <th>11</th>\n",
       "      <td>34</td>\n",
       "      <td>History of metastatic likely endometrial cance...</td>\n",
       "      <td>Increasing now moderate to large sized left pl...</td>\n",
       "      <td>Heterogeneous uterus with soft tissue attenuat...</td>\n",
       "    </tr>\n",
       "    <tr>\n",
       "      <th>12</th>\n",
       "      <td>39</td>\n",
       "      <td></td>\n",
       "      <td>There is interval development of extensive hyp...</td>\n",
       "      <td>Extensive recent left ACA and MCA territory in...</td>\n",
       "    </tr>\n",
       "    <tr>\n",
       "      <th>13</th>\n",
       "      <td>42</td>\n",
       "      <td>Evaluate for stricturing crohns disease in pat...</td>\n",
       "      <td>No significant abnormality noted. Hepatic stea...</td>\n",
       "      <td>Status post partial ileal resection at at leve...</td>\n",
       "    </tr>\n",
       "    <tr>\n",
       "      <th>14</th>\n",
       "      <td>49</td>\n",
       "      <td>male 62 years old hb drop of unknown source, e...</td>\n",
       "      <td>Beam hardening artifact from patients cardiac ...</td>\n",
       "      <td>No soft tissue hyperattenuation or intraabdomi...</td>\n",
       "    </tr>\n",
       "  </tbody>\n",
       "</table>\n",
       "</div>"
      ],
      "text/plain": [
       "    report_id                               clinical_information   \n",
       "0           6  locally recurrent oral tongue squamous cell ca...  \\\n",
       "1           7  64 years old male with history of left humerus...   \n",
       "2          13  female, 57 years old, with subarachnoid hemorr...   \n",
       "3          14  male, 66 years old, status post subdural hemor...   \n",
       "4          15                                                      \n",
       "5          16                                                      \n",
       "6          17  male, 84 years old, status post subdural hemor...   \n",
       "7          18                                                      \n",
       "8          22  Evaluate for acute intraabdominal process hist...   \n",
       "9          26                                                      \n",
       "10         28  Evaluate for necrotizing fascitis of scrotum h...   \n",
       "11         34  History of metastatic likely endometrial cance...   \n",
       "12         39                                                      \n",
       "13         42  Evaluate for stricturing crohns disease in pat...   \n",
       "14         49  male 62 years old hb drop of unknown source, e...   \n",
       "\n",
       "                                             findings   \n",
       "0   There are post-treatment findings in the neck ...  \\\n",
       "1   Scattered pulmonary micronodules, some which a...   \n",
       "2   A large coil mass is redemonstrated in the reg...   \n",
       "3   Findings are redemonstrated compatible with su...   \n",
       "4   The ventricles and sulci are within normal lim...   \n",
       "5   There is a very subtle focal hypoattenuating a...   \n",
       "6   Since the prior examination, two burr holes ha...   \n",
       "7   The ventricles and sulci are within normal lim...   \n",
       "8   No significant abnormality noted. Hepatic subc...   \n",
       "9   The frontal sinus and frontoethmoidal recesses...   \n",
       "10  Multifocal air space disease seen throughout b...   \n",
       "11  Increasing now moderate to large sized left pl...   \n",
       "12  There is interval development of extensive hyp...   \n",
       "13  No significant abnormality noted. Hepatic stea...   \n",
       "14  Beam hardening artifact from patients cardiac ...   \n",
       "\n",
       "                                           impression  \n",
       "0   Postoperative findings with evidence of recurr...  \n",
       "1                  No evidence of metastatic disease.  \n",
       "2   Redemonstration of a large coil mass situated ...  \n",
       "3   No significant change in the size of bilateral...  \n",
       "4                   No acute intracranial hemorrhage.  \n",
       "5   No acute intracranial hemorrhage. Very subtle ...  \n",
       "6   Expected findings status post evacuation of a ...  \n",
       "7   No acute intracranial abnormality. Dental cari...  \n",
       "8   Unremarkable exam. Normal appendix. If there i...  \n",
       "9   Mild interval improvement in extensive paranas...  \n",
       "10  Segmental thickening of distal transverse colo...  \n",
       "11  Heterogeneous uterus with soft tissue attenuat...  \n",
       "12  Extensive recent left ACA and MCA territory in...  \n",
       "13  Status post partial ileal resection at at leve...  \n",
       "14  No soft tissue hyperattenuation or intraabdomi...  "
      ]
     },
     "execution_count": 91,
     "metadata": {},
     "output_type": "execute_result"
    }
   ],
   "source": [
    "CT_report.head(15)"
   ]
  },
  {
   "cell_type": "markdown",
   "id": "5ceb6d38-bb6e-4673-bc8c-08c865b6c77a",
   "metadata": {
    "tags": []
   },
   "source": [
    "## Preprocessing"
   ]
  },
  {
   "cell_type": "markdown",
   "id": "1e128825-0fed-4617-99e5-d2c38c861f42",
   "metadata": {
    "tags": []
   },
   "source": [
    "### Import NLTK methods to preprocess our texts"
   ]
  },
  {
   "cell_type": "code",
   "execution_count": 92,
   "id": "cc521d25-ac87-4ce6-8c44-1da411c4340f",
   "metadata": {},
   "outputs": [],
   "source": [
    "import sys\n",
    "import nltk\n",
    "import re\n",
    "import string\n",
    "from nltk.corpus import stopwords\n",
    "from nltk.tokenize import RegexpTokenizer\n",
    "#nltk.download('punkt')\n",
    "#nltk.download('stopwords')\n",
    "stop_words = set(stopwords.words('english'))"
   ]
  },
  {
   "cell_type": "code",
   "execution_count": 122,
   "id": "599524e2-c348-4b03-895f-6bc40f70d7ca",
   "metadata": {},
   "outputs": [],
   "source": [
    "def keep_unique_sentences(text):\n",
    "    sentences = re.split(r'(?<=[.!?])\\s', text)\n",
    "    unique_sentences = set()\n",
    "    result = []\n",
    "\n",
    "    for sentence in sentences:\n",
    "        cleaned_sentence = sentence.strip('.!?')\n",
    "        if cleaned_sentence not in unique_sentences:\n",
    "            unique_sentences.add(cleaned_sentence)\n",
    "            result.append(sentence)\n",
    "\n",
    "    return ' '.join(result)"
   ]
  },
  {
   "cell_type": "markdown",
   "id": "dcb2c40a-bc81-4769-af65-773affb98552",
   "metadata": {},
   "source": [
    "### Build dataset with background & findings tokens + impression sentences"
   ]
  },
  {
   "cell_type": "code",
   "execution_count": 123,
   "id": "bb5691a8-5345-47aa-9801-efe80f67918c",
   "metadata": {},
   "outputs": [
    {
     "data": {
      "text/html": [
       "<div>\n",
       "<style scoped>\n",
       "    .dataframe tbody tr th:only-of-type {\n",
       "        vertical-align: middle;\n",
       "    }\n",
       "\n",
       "    .dataframe tbody tr th {\n",
       "        vertical-align: top;\n",
       "    }\n",
       "\n",
       "    .dataframe thead th {\n",
       "        text-align: right;\n",
       "    }\n",
       "</style>\n",
       "<table border=\"1\" class=\"dataframe\">\n",
       "  <thead>\n",
       "    <tr style=\"text-align: right;\">\n",
       "      <th></th>\n",
       "      <th>clinical_information_findings</th>\n",
       "      <th>impression</th>\n",
       "    </tr>\n",
       "  </thead>\n",
       "  <tbody>\n",
       "    <tr>\n",
       "      <th>0</th>\n",
       "      <td>locally recurrent oral tongue squamous cell ca...</td>\n",
       "      <td>Postoperative findings with evidence of recurr...</td>\n",
       "    </tr>\n",
       "    <tr>\n",
       "      <th>1</th>\n",
       "      <td>64 years old male with history of left humerus...</td>\n",
       "      <td>No evidence of metastatic disease.</td>\n",
       "    </tr>\n",
       "    <tr>\n",
       "      <th>2</th>\n",
       "      <td>female, 57 years old, with subarachnoid hemorr...</td>\n",
       "      <td>Redemonstration of a large coil mass situated ...</td>\n",
       "    </tr>\n",
       "    <tr>\n",
       "      <th>3</th>\n",
       "      <td>male, 66 years old, status post subdural hemor...</td>\n",
       "      <td>No significant change in the size of bilateral...</td>\n",
       "    </tr>\n",
       "    <tr>\n",
       "      <th>4</th>\n",
       "      <td>The ventricles and sulci are within normal li...</td>\n",
       "      <td>No acute intracranial hemorrhage.</td>\n",
       "    </tr>\n",
       "    <tr>\n",
       "      <th>5</th>\n",
       "      <td>There is a very subtle focal hypoattenuating ...</td>\n",
       "      <td>No acute intracranial hemorrhage. Very subtle ...</td>\n",
       "    </tr>\n",
       "    <tr>\n",
       "      <th>6</th>\n",
       "      <td>male, 84 years old, status post subdural hemor...</td>\n",
       "      <td>Expected findings status post evacuation of a ...</td>\n",
       "    </tr>\n",
       "    <tr>\n",
       "      <th>7</th>\n",
       "      <td>The ventricles and sulci are within normal li...</td>\n",
       "      <td>No acute intracranial abnormality. Dental cari...</td>\n",
       "    </tr>\n",
       "    <tr>\n",
       "      <th>8</th>\n",
       "      <td>Evaluate for acute intraabdominal process hist...</td>\n",
       "      <td>Unremarkable exam. Normal appendix. If there i...</td>\n",
       "    </tr>\n",
       "    <tr>\n",
       "      <th>9</th>\n",
       "      <td>The frontal sinus and frontoethmoidal recesse...</td>\n",
       "      <td>Mild interval improvement in extensive paranas...</td>\n",
       "    </tr>\n",
       "  </tbody>\n",
       "</table>\n",
       "</div>"
      ],
      "text/plain": [
       "                       clinical_information_findings   \n",
       "0  locally recurrent oral tongue squamous cell ca...  \\\n",
       "1  64 years old male with history of left humerus...   \n",
       "2  female, 57 years old, with subarachnoid hemorr...   \n",
       "3  male, 66 years old, status post subdural hemor...   \n",
       "4   The ventricles and sulci are within normal li...   \n",
       "5   There is a very subtle focal hypoattenuating ...   \n",
       "6  male, 84 years old, status post subdural hemor...   \n",
       "7   The ventricles and sulci are within normal li...   \n",
       "8  Evaluate for acute intraabdominal process hist...   \n",
       "9   The frontal sinus and frontoethmoidal recesse...   \n",
       "\n",
       "                                          impression  \n",
       "0  Postoperative findings with evidence of recurr...  \n",
       "1                 No evidence of metastatic disease.  \n",
       "2  Redemonstration of a large coil mass situated ...  \n",
       "3  No significant change in the size of bilateral...  \n",
       "4                  No acute intracranial hemorrhage.  \n",
       "5  No acute intracranial hemorrhage. Very subtle ...  \n",
       "6  Expected findings status post evacuation of a ...  \n",
       "7  No acute intracranial abnormality. Dental cari...  \n",
       "8  Unremarkable exam. Normal appendix. If there i...  \n",
       "9  Mild interval improvement in extensive paranas...  "
      ]
     },
     "execution_count": 123,
     "metadata": {},
     "output_type": "execute_result"
    }
   ],
   "source": [
    "testing_report = CT_report[:8000].copy()\n",
    "testing_report_preprocessed = pd.DataFrame()\n",
    "testing_report_preprocessed['clinical_information_findings'] = testing_report['clinical_information'] + ' ' + testing_report['findings']\n",
    "testing_report_preprocessed['clinical_information_findings'] = testing_report_preprocessed['clinical_information_findings'].apply(keep_unique_sentences)\n",
    "\n",
    "testing_report_preprocessed['impression'] = testing_report['impression']\n",
    "testing_report_preprocessed.head(10)"
   ]
  },
  {
   "cell_type": "code",
   "execution_count": 124,
   "id": "2efd9101-0dff-4df7-af01-45a44641cd29",
   "metadata": {},
   "outputs": [],
   "source": [
    "instruction_tuning_dataset = [\n",
    "    {\n",
    "        \"instruction\": \"Generate impression based on clinical information and findings.\",\n",
    "        \"input\": row['clinical_information_findings'],\n",
    "        \"output\": row['impression']\n",
    "    }\n",
    "    for row in testing_report_preprocessed.to_dict(orient=\"records\")\n",
    "]"
   ]
  },
  {
   "cell_type": "code",
   "execution_count": 125,
   "id": "fca68658-0ff4-45a5-8594-b1458b12e63b",
   "metadata": {},
   "outputs": [
    {
     "data": {
      "text/plain": [
       "8000"
      ]
     },
     "execution_count": 125,
     "metadata": {},
     "output_type": "execute_result"
    }
   ],
   "source": [
    "len(instruction_tuning_dataset)"
   ]
  },
  {
   "cell_type": "markdown",
   "id": "9472081f-58a9-4306-b4bb-4b81e6ccaa0c",
   "metadata": {
    "tags": []
   },
   "source": [
    "## Save instruction tuning data as json file"
   ]
  },
  {
   "cell_type": "code",
   "execution_count": 127,
   "id": "8f341121-7d4f-464c-8c43-ca01c105fd29",
   "metadata": {},
   "outputs": [],
   "source": [
    "with open('CT_InstructionTuning.json', 'w') as outfile:\n",
    "    for obj in instruction_tuning_dataset:\n",
    "        json.dump(obj, outfile)\n",
    "        outfile.write('\\n')"
   ]
  }
 ],
 "metadata": {
  "environment": {
   "kernel": "p39",
   "name": "common-cu110.m108",
   "type": "gcloud",
   "uri": "gcr.io/deeplearning-platform-release/base-cu110:m108"
  },
  "kernelspec": {
   "display_name": "p39",
   "language": "python",
   "name": "p39"
  },
  "language_info": {
   "codemirror_mode": {
    "name": "ipython",
    "version": 3
   },
   "file_extension": ".py",
   "mimetype": "text/x-python",
   "name": "python",
   "nbconvert_exporter": "python",
   "pygments_lexer": "ipython3",
   "version": "3.9.16"
  }
 },
 "nbformat": 4,
 "nbformat_minor": 5
}
